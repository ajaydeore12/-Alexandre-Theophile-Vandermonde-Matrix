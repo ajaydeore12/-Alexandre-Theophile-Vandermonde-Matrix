{
 "cells": [
  {
   "cell_type": "markdown",
   "metadata": {},
   "source": [
    "Task 1: \n",
    " \n",
    "  1. \n",
    " \n",
    "Write a function to compute 5/0 and use try/except to catch the exceptions. "
   ]
  },
  {
   "cell_type": "code",
   "execution_count": 14,
   "metadata": {},
   "outputs": [
    {
     "name": "stdout",
     "output_type": "stream",
     "text": [
      "enter first num3\n",
      "enter the second number 0\n",
      "division by zero\n"
     ]
    }
   ],
   "source": [
    "def fun1(num1,num2):\n",
    "    try:\n",
    "        result=num1/num2\n",
    "    except (ZeroDivisionError,ValueError,TypeError) as e:\n",
    "        print(e)\n",
    "    else:\n",
    "        print(result)\n",
    "fun1(eval(input(\"enter first num\")),eval(input(\"enter the second number \")))       "
   ]
  },
  {
   "cell_type": "markdown",
   "metadata": {},
   "source": [
    "# 2. \n",
    " \n",
    "Implement a Python program to generate all sentences where subject is in [\"Americans\", \"Indians\"] and verb is in [\"Play\", \"watch\"] and the object is in [\"Baseball\",\"cricket\"]. \n",
    " \n",
    "Hint: Subject,Verb and Object should be declared in the program as shown below. \n",
    " \n",
    "subjects=[\"Americans \",\"Indians\"] verbs=[\"play\",\"watch\"] objects=[\"Baseball\",\"Cricket\"] \n",
    " \n",
    "Output should come as below: \n",
    " \n",
    "Americans  play Baseball. Americans  play Cricket. Americans  watch Baseball. Americans  watch Cricket. Indians play Baseball. Indians play Cricket. Indians watch Baseball. Indians watch Cricket. "
   ]
  },
  {
   "cell_type": "code",
   "execution_count": 18,
   "metadata": {},
   "outputs": [
    {
     "data": {
      "text/plain": [
       "['Americans play Baseball',\n",
       " 'Americans play Cricket',\n",
       " 'Americans watch Baseball',\n",
       " 'Americans watch Cricket',\n",
       " 'Indians play Baseball',\n",
       " 'Indians play Cricket',\n",
       " 'Indians watch Baseball',\n",
       " 'Indians watch Cricket']"
      ]
     },
     "execution_count": 18,
     "metadata": {},
     "output_type": "execute_result"
    }
   ],
   "source": [
    "subject=[\"Americans\",\"Indians\"]\n",
    "verbs=[\"play\",\"watch\"]\n",
    "objects=[\"Baseball\",\"Cricket\"]\n",
    "result=[i+' '+j+' '+k for i in subject for j in verbs for k in objects]\n",
    "result"
   ]
  },
  {
   "cell_type": "markdown",
   "metadata": {},
   "source": [
    "Task 2:  \n",
    " \n",
    " \n",
    "1.  \n",
    " \n",
    "Write a function so that the columns of the output matrix are powers of the input vector.  \n",
    "The order of the powers is determined by the increasing boolean argument. Specifically, when              increasing is False, the i-th output column is the input vector raised element-wise to the power                of N - i - 1.  \n",
    " \n",
    "HINT: Such a matrix with a geometric progression in each row is named for Alexandre               Theophile Vandermonde. \n",
    " \n",
    " "
   ]
  },
  {
   "cell_type": "code",
   "execution_count": 22,
   "metadata": {},
   "outputs": [
    {
     "name": "stdout",
     "output_type": "stream",
     "text": [
      "enter the list[1,2,3,4]\n",
      "[[1, 1, 1, 1], [2, 4, 8, 16], [3, 9, 27, 81], [4, 16, 64, 256]]\n"
     ]
    }
   ],
   "source": [
    "input_vectore=eval(input(\"enter the list\"))\n",
    "result=[[i**j for j  in range(1,len(input_vectore)+1)]for i  in input_vectore]\n",
    "print(result)"
   ]
  }
 ],
 "metadata": {
  "kernelspec": {
   "display_name": "Python 3",
   "language": "python",
   "name": "python3"
  },
  "language_info": {
   "codemirror_mode": {
    "name": "ipython",
    "version": 3
   },
   "file_extension": ".py",
   "mimetype": "text/x-python",
   "name": "python",
   "nbconvert_exporter": "python",
   "pygments_lexer": "ipython3",
   "version": "3.6.5"
  }
 },
 "nbformat": 4,
 "nbformat_minor": 2
}
